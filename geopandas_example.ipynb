{
 "cells": [
  {
   "cell_type": "markdown",
   "id": "9727ad5d",
   "metadata": {},
   "source": [
    "# Basic Geopandas Examples\n",
    "https://geopandas.org/en/stable/index.html\n",
    "\n",
    "Frank Donnelly\n",
    "Head of GIS & Data Services, Brown University Library\n",
    "\n",
    "Dec 11, 2024"
   ]
  },
  {
   "cell_type": "code",
   "execution_count": 1,
   "id": "cfca1918",
   "metadata": {},
   "outputs": [],
   "source": [
    "import os, pandas as pd\n",
    "import geopandas as gpd\n",
    "from shapely.geometry import LineString\n",
    "import matplotlib.pyplot as plt\n",
    "%matplotlib inline"
   ]
  },
  {
   "cell_type": "markdown",
   "id": "82734c04",
   "metadata": {},
   "source": [
    "# Read Input and Create Geometry From Points\n",
    "Must know and plot the CRS of points as is; CRS is referenced using EPSG codes: https://epsg.io/. 4269 is NAD 83, often used by US federal govt. The most common long / lat CRS is 4326, WGS 84."
   ]
  },
  {
   "cell_type": "code",
   "execution_count": 2,
   "id": "ccc9735a",
   "metadata": {},
   "outputs": [
    {
     "data": {
      "text/html": [
       "<div>\n",
       "<style scoped>\n",
       "    .dataframe tbody tr th:only-of-type {\n",
       "        vertical-align: middle;\n",
       "    }\n",
       "\n",
       "    .dataframe tbody tr th {\n",
       "        vertical-align: top;\n",
       "    }\n",
       "\n",
       "    .dataframe thead th {\n",
       "        text-align: right;\n",
       "    }\n",
       "</style>\n",
       "<table border=\"1\" class=\"dataframe\">\n",
       "  <thead>\n",
       "    <tr style=\"text-align: right;\">\n",
       "      <th></th>\n",
       "      <th>statefp</th>\n",
       "      <th>countyfp</th>\n",
       "      <th>countyns</th>\n",
       "      <th>geoid</th>\n",
       "      <th>name</th>\n",
       "      <th>namelsad</th>\n",
       "      <th>lsad</th>\n",
       "      <th>classfp</th>\n",
       "      <th>mtfcc</th>\n",
       "      <th>csafp</th>\n",
       "      <th>cbsafp</th>\n",
       "      <th>funcstat</th>\n",
       "      <th>aland</th>\n",
       "      <th>awater</th>\n",
       "      <th>intptlat</th>\n",
       "      <th>intptlon</th>\n",
       "      <th>geometry</th>\n",
       "    </tr>\n",
       "  </thead>\n",
       "  <tbody>\n",
       "    <tr>\n",
       "      <th>0</th>\n",
       "      <td>44</td>\n",
       "      <td>009</td>\n",
       "      <td>01219782</td>\n",
       "      <td>44009</td>\n",
       "      <td>Washington</td>\n",
       "      <td>Washington County</td>\n",
       "      <td>06</td>\n",
       "      <td>H4</td>\n",
       "      <td>G4020</td>\n",
       "      <td>148</td>\n",
       "      <td>39300</td>\n",
       "      <td>N</td>\n",
       "      <td>852827571</td>\n",
       "      <td>604769755</td>\n",
       "      <td>+41.3967920</td>\n",
       "      <td>-071.6202820</td>\n",
       "      <td>MULTIPOLYGON (((307427.031 86583.659, 307412.2...</td>\n",
       "    </tr>\n",
       "    <tr>\n",
       "      <th>1</th>\n",
       "      <td>44</td>\n",
       "      <td>007</td>\n",
       "      <td>01219781</td>\n",
       "      <td>44007</td>\n",
       "      <td>Providence</td>\n",
       "      <td>Providence County</td>\n",
       "      <td>06</td>\n",
       "      <td>H4</td>\n",
       "      <td>G4020</td>\n",
       "      <td>148</td>\n",
       "      <td>39300</td>\n",
       "      <td>N</td>\n",
       "      <td>1060552463</td>\n",
       "      <td>67870199</td>\n",
       "      <td>+41.8697678</td>\n",
       "      <td>-071.5786246</td>\n",
       "      <td>POLYGON ((315157.916 236069.733, 315138.271 23...</td>\n",
       "    </tr>\n",
       "    <tr>\n",
       "      <th>2</th>\n",
       "      <td>44</td>\n",
       "      <td>001</td>\n",
       "      <td>01219777</td>\n",
       "      <td>44001</td>\n",
       "      <td>Bristol</td>\n",
       "      <td>Bristol County</td>\n",
       "      <td>06</td>\n",
       "      <td>H4</td>\n",
       "      <td>G4020</td>\n",
       "      <td>148</td>\n",
       "      <td>39300</td>\n",
       "      <td>N</td>\n",
       "      <td>62500772</td>\n",
       "      <td>53359134</td>\n",
       "      <td>+41.7068397</td>\n",
       "      <td>-071.2866874</td>\n",
       "      <td>POLYGON ((407177.244 220459.551, 407060.698 22...</td>\n",
       "    </tr>\n",
       "    <tr>\n",
       "      <th>3</th>\n",
       "      <td>44</td>\n",
       "      <td>005</td>\n",
       "      <td>01219779</td>\n",
       "      <td>44005</td>\n",
       "      <td>Newport</td>\n",
       "      <td>Newport County</td>\n",
       "      <td>06</td>\n",
       "      <td>H4</td>\n",
       "      <td>G4020</td>\n",
       "      <td>148</td>\n",
       "      <td>39300</td>\n",
       "      <td>N</td>\n",
       "      <td>265293780</td>\n",
       "      <td>547001789</td>\n",
       "      <td>+41.5010449</td>\n",
       "      <td>-071.2830626</td>\n",
       "      <td>POLYGON ((433188.859 146428.981, 433458.478 14...</td>\n",
       "    </tr>\n",
       "    <tr>\n",
       "      <th>4</th>\n",
       "      <td>44</td>\n",
       "      <td>003</td>\n",
       "      <td>01219778</td>\n",
       "      <td>44003</td>\n",
       "      <td>Kent</td>\n",
       "      <td>Kent County</td>\n",
       "      <td>06</td>\n",
       "      <td>H4</td>\n",
       "      <td>G4020</td>\n",
       "      <td>148</td>\n",
       "      <td>39300</td>\n",
       "      <td>N</td>\n",
       "      <td>436588773</td>\n",
       "      <td>50686111</td>\n",
       "      <td>+41.6751180</td>\n",
       "      <td>-071.5802819</td>\n",
       "      <td>POLYGON ((315828.392 188986.602, 315772.035 18...</td>\n",
       "    </tr>\n",
       "  </tbody>\n",
       "</table>\n",
       "</div>"
      ],
      "text/plain": [
       "  statefp countyfp  countyns  geoid        name           namelsad lsad  \\\n",
       "0      44      009  01219782  44009  Washington  Washington County   06   \n",
       "1      44      007  01219781  44007  Providence  Providence County   06   \n",
       "2      44      001  01219777  44001     Bristol     Bristol County   06   \n",
       "3      44      005  01219779  44005     Newport     Newport County   06   \n",
       "4      44      003  01219778  44003        Kent        Kent County   06   \n",
       "\n",
       "  classfp  mtfcc csafp cbsafp funcstat       aland     awater     intptlat  \\\n",
       "0      H4  G4020   148  39300        N   852827571  604769755  +41.3967920   \n",
       "1      H4  G4020   148  39300        N  1060552463   67870199  +41.8697678   \n",
       "2      H4  G4020   148  39300        N    62500772   53359134  +41.7068397   \n",
       "3      H4  G4020   148  39300        N   265293780  547001789  +41.5010449   \n",
       "4      H4  G4020   148  39300        N   436588773   50686111  +41.6751180   \n",
       "\n",
       "       intptlon                                           geometry  \n",
       "0  -071.6202820  MULTIPOLYGON (((307427.031 86583.659, 307412.2...  \n",
       "1  -071.5786246  POLYGON ((315157.916 236069.733, 315138.271 23...  \n",
       "2  -071.2866874  POLYGON ((407177.244 220459.551, 407060.698 22...  \n",
       "3  -071.2830626  POLYGON ((433188.859 146428.981, 433458.478 14...  \n",
       "4  -071.5802819  POLYGON ((315828.392 188986.602, 315772.035 18...  "
      ]
     },
     "execution_count": 2,
     "metadata": {},
     "output_type": "execute_result"
    }
   ],
   "source": [
    "# Read shapefile\n",
    "county_file=os.path.join('input','ri_county_bndy.shp')\n",
    "gdf_cnty=gpd.read_file(county_file)\n",
    "gdf_cnty.head()"
   ]
  },
  {
   "cell_type": "code",
   "execution_count": 3,
   "id": "521e1e5d",
   "metadata": {},
   "outputs": [
    {
     "data": {
      "text/html": [
       "<div>\n",
       "<style scoped>\n",
       "    .dataframe tbody tr th:only-of-type {\n",
       "        vertical-align: middle;\n",
       "    }\n",
       "\n",
       "    .dataframe tbody tr th {\n",
       "        vertical-align: top;\n",
       "    }\n",
       "\n",
       "    .dataframe thead th {\n",
       "        text-align: right;\n",
       "    }\n",
       "</style>\n",
       "<table border=\"1\" class=\"dataframe\">\n",
       "  <thead>\n",
       "    <tr style=\"text-align: right;\">\n",
       "      <th></th>\n",
       "      <th>OBS_NAME</th>\n",
       "      <th>GROUP</th>\n",
       "      <th>OBS_DATE</th>\n",
       "      <th>GEOID</th>\n",
       "      <th>NAME</th>\n",
       "      <th>USPS</th>\n",
       "      <th>ALAND_SQMI</th>\n",
       "      <th>AWATER_SQMI</th>\n",
       "      <th>INTPTLAT</th>\n",
       "      <th>INTPTLONG</th>\n",
       "      <th>geometry</th>\n",
       "    </tr>\n",
       "    <tr>\n",
       "      <th>OBS_NUM</th>\n",
       "      <th></th>\n",
       "      <th></th>\n",
       "      <th></th>\n",
       "      <th></th>\n",
       "      <th></th>\n",
       "      <th></th>\n",
       "      <th></th>\n",
       "      <th></th>\n",
       "      <th></th>\n",
       "      <th></th>\n",
       "      <th></th>\n",
       "    </tr>\n",
       "  </thead>\n",
       "  <tbody>\n",
       "    <tr>\n",
       "      <th>0</th>\n",
       "      <td>alfa</td>\n",
       "      <td>a</td>\n",
       "      <td>1/5/2020</td>\n",
       "      <td>4414140</td>\n",
       "      <td>Central Falls city</td>\n",
       "      <td>RI</td>\n",
       "      <td>1.194</td>\n",
       "      <td>0.080</td>\n",
       "      <td>41.890064</td>\n",
       "      <td>-71.393481</td>\n",
       "      <td>POINT (-71.39348 41.89006)</td>\n",
       "    </tr>\n",
       "    <tr>\n",
       "      <th>1</th>\n",
       "      <td>bravo</td>\n",
       "      <td>a</td>\n",
       "      <td>1/31/2020</td>\n",
       "      <td>4419180</td>\n",
       "      <td>Cranston city</td>\n",
       "      <td>RI</td>\n",
       "      <td>28.345</td>\n",
       "      <td>1.672</td>\n",
       "      <td>41.769734</td>\n",
       "      <td>-71.485049</td>\n",
       "      <td>POINT (-71.48505 41.76973)</td>\n",
       "    </tr>\n",
       "    <tr>\n",
       "      <th>2</th>\n",
       "      <td>charlie</td>\n",
       "      <td>a</td>\n",
       "      <td>1/15/2020</td>\n",
       "      <td>4422960</td>\n",
       "      <td>East Providence city</td>\n",
       "      <td>RI</td>\n",
       "      <td>13.284</td>\n",
       "      <td>3.322</td>\n",
       "      <td>41.800433</td>\n",
       "      <td>-71.359258</td>\n",
       "      <td>POINT (-71.35926 41.80043)</td>\n",
       "    </tr>\n",
       "    <tr>\n",
       "      <th>3</th>\n",
       "      <td>delta</td>\n",
       "      <td>a</td>\n",
       "      <td>2/10/2020</td>\n",
       "      <td>4449960</td>\n",
       "      <td>Newport city</td>\n",
       "      <td>RI</td>\n",
       "      <td>7.656</td>\n",
       "      <td>3.718</td>\n",
       "      <td>41.476681</td>\n",
       "      <td>-71.319627</td>\n",
       "      <td>POINT (-71.31963 41.47668)</td>\n",
       "    </tr>\n",
       "    <tr>\n",
       "      <th>4</th>\n",
       "      <td>echo</td>\n",
       "      <td>a</td>\n",
       "      <td>2/5/2020</td>\n",
       "      <td>4454640</td>\n",
       "      <td>Pawtucket city</td>\n",
       "      <td>RI</td>\n",
       "      <td>8.667</td>\n",
       "      <td>0.297</td>\n",
       "      <td>41.874824</td>\n",
       "      <td>-71.373323</td>\n",
       "      <td>POINT (-71.37332 41.87482)</td>\n",
       "    </tr>\n",
       "    <tr>\n",
       "      <th>5</th>\n",
       "      <td>foxtrot</td>\n",
       "      <td>a</td>\n",
       "      <td>1/15/2020</td>\n",
       "      <td>4459000</td>\n",
       "      <td>Providence city</td>\n",
       "      <td>RI</td>\n",
       "      <td>18.406</td>\n",
       "      <td>2.179</td>\n",
       "      <td>41.823056</td>\n",
       "      <td>-71.418784</td>\n",
       "      <td>POINT (-71.41878 41.82306)</td>\n",
       "    </tr>\n",
       "    <tr>\n",
       "      <th>6</th>\n",
       "      <td>golf</td>\n",
       "      <td>b</td>\n",
       "      <td>1/16/2020</td>\n",
       "      <td>4459000</td>\n",
       "      <td>Providence city</td>\n",
       "      <td>RI</td>\n",
       "      <td>18.406</td>\n",
       "      <td>2.179</td>\n",
       "      <td>41.823056</td>\n",
       "      <td>-71.418784</td>\n",
       "      <td>POINT (-71.41878 41.82306)</td>\n",
       "    </tr>\n",
       "    <tr>\n",
       "      <th>7</th>\n",
       "      <td>hotel</td>\n",
       "      <td>b</td>\n",
       "      <td>1/31/2020</td>\n",
       "      <td>4474300</td>\n",
       "      <td>Warwick city</td>\n",
       "      <td>RI</td>\n",
       "      <td>35.001</td>\n",
       "      <td>14.750</td>\n",
       "      <td>41.703085</td>\n",
       "      <td>-71.420310</td>\n",
       "      <td>POINT (-71.42031 41.70309)</td>\n",
       "    </tr>\n",
       "    <tr>\n",
       "      <th>8</th>\n",
       "      <td>india</td>\n",
       "      <td>b</td>\n",
       "      <td>2/1/2020</td>\n",
       "      <td>4480780</td>\n",
       "      <td>Woonsocket city</td>\n",
       "      <td>RI</td>\n",
       "      <td>7.746</td>\n",
       "      <td>0.194</td>\n",
       "      <td>42.001708</td>\n",
       "      <td>-71.499947</td>\n",
       "      <td>POINT (-71.49995 42.00171)</td>\n",
       "    </tr>\n",
       "    <tr>\n",
       "      <th>9</th>\n",
       "      <td>julliett</td>\n",
       "      <td>c</td>\n",
       "      <td>2/20/2020</td>\n",
       "      <td>4480780</td>\n",
       "      <td>Woonsocket city</td>\n",
       "      <td>RI</td>\n",
       "      <td>7.746</td>\n",
       "      <td>0.194</td>\n",
       "      <td>42.001708</td>\n",
       "      <td>-71.499947</td>\n",
       "      <td>POINT (-71.49995 42.00171)</td>\n",
       "    </tr>\n",
       "    <tr>\n",
       "      <th>10</th>\n",
       "      <td>kilo</td>\n",
       "      <td>c</td>\n",
       "      <td>2/16/2020</td>\n",
       "      <td>0952280</td>\n",
       "      <td>New London city</td>\n",
       "      <td>CT</td>\n",
       "      <td>5.607</td>\n",
       "      <td>4.984</td>\n",
       "      <td>41.332957</td>\n",
       "      <td>-72.096176</td>\n",
       "      <td>POINT (-72.09618 41.33296)</td>\n",
       "    </tr>\n",
       "  </tbody>\n",
       "</table>\n",
       "</div>"
      ],
      "text/plain": [
       "         OBS_NAME GROUP   OBS_DATE    GEOID                  NAME USPS  \\\n",
       "OBS_NUM                                                                  \n",
       "0            alfa     a   1/5/2020  4414140    Central Falls city   RI   \n",
       "1           bravo     a  1/31/2020  4419180         Cranston city   RI   \n",
       "2         charlie     a  1/15/2020  4422960  East Providence city   RI   \n",
       "3           delta     a  2/10/2020  4449960          Newport city   RI   \n",
       "4            echo     a   2/5/2020  4454640        Pawtucket city   RI   \n",
       "5         foxtrot     a  1/15/2020  4459000       Providence city   RI   \n",
       "6            golf     b  1/16/2020  4459000       Providence city   RI   \n",
       "7           hotel     b  1/31/2020  4474300          Warwick city   RI   \n",
       "8           india     b   2/1/2020  4480780       Woonsocket city   RI   \n",
       "9        julliett     c  2/20/2020  4480780       Woonsocket city   RI   \n",
       "10           kilo     c  2/16/2020  0952280       New London city   CT   \n",
       "\n",
       "         ALAND_SQMI  AWATER_SQMI   INTPTLAT  INTPTLONG  \\\n",
       "OBS_NUM                                                  \n",
       "0             1.194        0.080  41.890064 -71.393481   \n",
       "1            28.345        1.672  41.769734 -71.485049   \n",
       "2            13.284        3.322  41.800433 -71.359258   \n",
       "3             7.656        3.718  41.476681 -71.319627   \n",
       "4             8.667        0.297  41.874824 -71.373323   \n",
       "5            18.406        2.179  41.823056 -71.418784   \n",
       "6            18.406        2.179  41.823056 -71.418784   \n",
       "7            35.001       14.750  41.703085 -71.420310   \n",
       "8             7.746        0.194  42.001708 -71.499947   \n",
       "9             7.746        0.194  42.001708 -71.499947   \n",
       "10            5.607        4.984  41.332957 -72.096176   \n",
       "\n",
       "                           geometry  \n",
       "OBS_NUM                              \n",
       "0        POINT (-71.39348 41.89006)  \n",
       "1        POINT (-71.48505 41.76973)  \n",
       "2        POINT (-71.35926 41.80043)  \n",
       "3        POINT (-71.31963 41.47668)  \n",
       "4        POINT (-71.37332 41.87482)  \n",
       "5        POINT (-71.41878 41.82306)  \n",
       "6        POINT (-71.41878 41.82306)  \n",
       "7        POINT (-71.42031 41.70309)  \n",
       "8        POINT (-71.49995 42.00171)  \n",
       "9        POINT (-71.49995 42.00171)  \n",
       "10       POINT (-72.09618 41.33296)  "
      ]
     },
     "execution_count": 3,
     "metadata": {},
     "output_type": "execute_result"
    }
   ],
   "source": [
    "# Read CSV\n",
    "point_file=os.path.join('input','test_points.csv')\n",
    "df_pnts=pd.read_csv(point_file, index_col='OBS_NUM', delimiter=',',dtype={'GEOID':str})\n",
    "\n",
    "gdf_pnts = gpd.GeoDataFrame(df_pnts,geometry=gpd.points_from_xy(\n",
    "    df_pnts['INTPTLONG'],df_pnts['INTPTLAT']),crs = 'EPSG:4269')\n",
    "gdf_pnts"
   ]
  },
  {
   "cell_type": "markdown",
   "id": "3c97e42a",
   "metadata": {},
   "source": [
    "# Get CRS Info and Transform"
   ]
  },
  {
   "cell_type": "code",
   "execution_count": 4,
   "id": "82663b2f",
   "metadata": {},
   "outputs": [
    {
     "data": {
      "text/plain": [
       "<Projected CRS: EPSG:3438>\n",
       "Name: NAD83 / Rhode Island (ftUS)\n",
       "Axis Info [cartesian]:\n",
       "- X[east]: Easting (US survey foot)\n",
       "- Y[north]: Northing (US survey foot)\n",
       "Area of Use:\n",
       "- name: United States (USA) - Rhode Island - counties of Bristol; Kent; Newport; Providence; Washington.\n",
       "- bounds: (-71.85, 41.13, -71.08, 42.02)\n",
       "Coordinate Operation:\n",
       "- name: SPCS83 Rhode Island zone (US survey foot)\n",
       "- method: Transverse Mercator\n",
       "Datum: North American Datum 1983\n",
       "- Ellipsoid: GRS 1980\n",
       "- Prime Meridian: Greenwich"
      ]
     },
     "execution_count": 4,
     "metadata": {},
     "output_type": "execute_result"
    }
   ],
   "source": [
    "# CRS Counties\n",
    "gdf_cnty.crs"
   ]
  },
  {
   "cell_type": "code",
   "execution_count": 5,
   "id": "d7a8838b",
   "metadata": {},
   "outputs": [
    {
     "data": {
      "text/plain": [
       "array([216185.97680585,   4568.47853844, 440907.38505165, 340888.89765888])"
      ]
     },
     "execution_count": 5,
     "metadata": {},
     "output_type": "execute_result"
    }
   ],
   "source": [
    "# Bounds Counties\n",
    "gdf_cnty.total_bounds"
   ]
  },
  {
   "cell_type": "code",
   "execution_count": 6,
   "id": "4aaa6eef",
   "metadata": {},
   "outputs": [
    {
     "data": {
      "text/plain": [
       "<Geographic 2D CRS: EPSG:4269>\n",
       "Name: NAD83\n",
       "Axis Info [ellipsoidal]:\n",
       "- Lat[north]: Geodetic latitude (degree)\n",
       "- Lon[east]: Geodetic longitude (degree)\n",
       "Area of Use:\n",
       "- name: North America - onshore and offshore: Canada - Alberta; British Columbia; Manitoba; New Brunswick; Newfoundland and Labrador; Northwest Territories; Nova Scotia; Nunavut; Ontario; Prince Edward Island; Quebec; Saskatchewan; Yukon. Puerto Rico. United States (USA) - Alabama; Alaska; Arizona; Arkansas; California; Colorado; Connecticut; Delaware; Florida; Georgia; Hawaii; Idaho; Illinois; Indiana; Iowa; Kansas; Kentucky; Louisiana; Maine; Maryland; Massachusetts; Michigan; Minnesota; Mississippi; Missouri; Montana; Nebraska; Nevada; New Hampshire; New Jersey; New Mexico; New York; North Carolina; North Dakota; Ohio; Oklahoma; Oregon; Pennsylvania; Rhode Island; South Carolina; South Dakota; Tennessee; Texas; Utah; Vermont; Virginia; Washington; West Virginia; Wisconsin; Wyoming. US Virgin Islands. British Virgin Islands.\n",
       "- bounds: (167.65, 14.92, -40.73, 86.45)\n",
       "Datum: North American Datum 1983\n",
       "- Ellipsoid: GRS 1980\n",
       "- Prime Meridian: Greenwich"
      ]
     },
     "execution_count": 6,
     "metadata": {},
     "output_type": "execute_result"
    }
   ],
   "source": [
    "# CRS Points\n",
    "gdf_pnts.crs"
   ]
  },
  {
   "cell_type": "code",
   "execution_count": 7,
   "id": "7965363c",
   "metadata": {},
   "outputs": [
    {
     "data": {
      "text/plain": [
       "array([-72.096176,  41.332957, -71.319627,  42.001708])"
      ]
     },
     "execution_count": 7,
     "metadata": {},
     "output_type": "execute_result"
    }
   ],
   "source": [
    "# Bounds Points\n",
    "gdf_pnts.total_bounds"
   ]
  },
  {
   "cell_type": "code",
   "execution_count": 8,
   "id": "e7715fd8",
   "metadata": {},
   "outputs": [
    {
     "data": {
      "text/plain": [
       "<Projected CRS: EPSG:3438>\n",
       "Name: NAD83 / Rhode Island (ftUS)\n",
       "Axis Info [cartesian]:\n",
       "- X[east]: Easting (US survey foot)\n",
       "- Y[north]: Northing (US survey foot)\n",
       "Area of Use:\n",
       "- name: United States (USA) - Rhode Island - counties of Bristol; Kent; Newport; Providence; Washington.\n",
       "- bounds: (-71.85, 41.13, -71.08, 42.02)\n",
       "Coordinate Operation:\n",
       "- name: SPCS83 Rhode Island zone (US survey foot)\n",
       "- method: Transverse Mercator\n",
       "Datum: North American Datum 1983\n",
       "- Ellipsoid: GRS 1980\n",
       "- Prime Meridian: Greenwich"
      ]
     },
     "execution_count": 8,
     "metadata": {},
     "output_type": "execute_result"
    }
   ],
   "source": [
    "# Transform Point Geometry to Match County CRS\n",
    "# 3438 is the EPSG for for the RI State Plane Zone\n",
    "gdf_pnts.to_crs(3438,inplace=True)\n",
    "gdf_pnts.crs"
   ]
  },
  {
   "cell_type": "code",
   "execution_count": 9,
   "id": "55495ded",
   "metadata": {},
   "outputs": [
    {
     "data": {
      "text/plain": [
       "array([164350.33557909,  91515.54713867, 377511.59607262, 334638.78150084])"
      ]
     },
     "execution_count": 9,
     "metadata": {},
     "output_type": "execute_result"
    }
   ],
   "source": [
    "gdf_pnts.total_bounds"
   ]
  },
  {
   "cell_type": "markdown",
   "id": "861fbbba",
   "metadata": {},
   "source": [
    "# Generate Lines from Points Grouped by Categories and Calculate Length\n",
    "Assumes points are in proper sequence; if not, sort by sequence column first. Output measurement units are based on the CRS."
   ]
  },
  {
   "cell_type": "code",
   "execution_count": 10,
   "id": "779b3561",
   "metadata": {},
   "outputs": [
    {
     "data": {
      "text/html": [
       "<div>\n",
       "<style scoped>\n",
       "    .dataframe tbody tr th:only-of-type {\n",
       "        vertical-align: middle;\n",
       "    }\n",
       "\n",
       "    .dataframe tbody tr th {\n",
       "        vertical-align: top;\n",
       "    }\n",
       "\n",
       "    .dataframe thead th {\n",
       "        text-align: right;\n",
       "    }\n",
       "</style>\n",
       "<table border=\"1\" class=\"dataframe\">\n",
       "  <thead>\n",
       "    <tr style=\"text-align: right;\">\n",
       "      <th></th>\n",
       "      <th>GROUP</th>\n",
       "      <th>length_mi</th>\n",
       "    </tr>\n",
       "  </thead>\n",
       "  <tbody>\n",
       "    <tr>\n",
       "      <th>0</th>\n",
       "      <td>a</td>\n",
       "      <td>70.718183</td>\n",
       "    </tr>\n",
       "    <tr>\n",
       "      <th>1</th>\n",
       "      <td>b</td>\n",
       "      <td>29.295344</td>\n",
       "    </tr>\n",
       "    <tr>\n",
       "      <th>2</th>\n",
       "      <td>c</td>\n",
       "      <td>55.516051</td>\n",
       "    </tr>\n",
       "  </tbody>\n",
       "</table>\n",
       "</div>"
      ],
      "text/plain": [
       "  GROUP  length_mi\n",
       "0     a  70.718183\n",
       "1     b  29.295344\n",
       "2     c  55.516051"
      ]
     },
     "execution_count": 10,
     "metadata": {},
     "output_type": "execute_result"
    }
   ],
   "source": [
    "lines = gdf_pnts.groupby('GROUP')['geometry'].apply(lambda x: LineString(x.tolist()))\n",
    "gdf_lines = gpd.GeoDataFrame(lines, geometry='geometry',crs = 'EPSG:3438').reset_index()\n",
    "gdf_lines['length_mi']=(gdf_lines.length)/5280\n",
    "gdf_lines.loc[:,['GROUP','length_mi']]"
   ]
  },
  {
   "cell_type": "markdown",
   "id": "c2655fde",
   "metadata": {},
   "source": [
    "# Spatial Join Points and Polygons\n",
    "Keep all points on left, null values for non-matching counties on right. Take subset of columns from right, must always include geom for spatial joins."
   ]
  },
  {
   "cell_type": "code",
   "execution_count": 11,
   "id": "88aef431",
   "metadata": {},
   "outputs": [
    {
     "data": {
      "text/html": [
       "<div>\n",
       "<style scoped>\n",
       "    .dataframe tbody tr th:only-of-type {\n",
       "        vertical-align: middle;\n",
       "    }\n",
       "\n",
       "    .dataframe tbody tr th {\n",
       "        vertical-align: top;\n",
       "    }\n",
       "\n",
       "    .dataframe thead th {\n",
       "        text-align: right;\n",
       "    }\n",
       "</style>\n",
       "<table border=\"1\" class=\"dataframe\">\n",
       "  <thead>\n",
       "    <tr style=\"text-align: right;\">\n",
       "      <th></th>\n",
       "      <th>OBS_NAME</th>\n",
       "      <th>OBS_DATE</th>\n",
       "      <th>COUNTY</th>\n",
       "    </tr>\n",
       "    <tr>\n",
       "      <th>OBS_NUM</th>\n",
       "      <th></th>\n",
       "      <th></th>\n",
       "      <th></th>\n",
       "    </tr>\n",
       "  </thead>\n",
       "  <tbody>\n",
       "    <tr>\n",
       "      <th>0</th>\n",
       "      <td>alfa</td>\n",
       "      <td>1/5/2020</td>\n",
       "      <td>Providence County</td>\n",
       "    </tr>\n",
       "    <tr>\n",
       "      <th>1</th>\n",
       "      <td>bravo</td>\n",
       "      <td>1/31/2020</td>\n",
       "      <td>Providence County</td>\n",
       "    </tr>\n",
       "    <tr>\n",
       "      <th>2</th>\n",
       "      <td>charlie</td>\n",
       "      <td>1/15/2020</td>\n",
       "      <td>Providence County</td>\n",
       "    </tr>\n",
       "    <tr>\n",
       "      <th>3</th>\n",
       "      <td>delta</td>\n",
       "      <td>2/10/2020</td>\n",
       "      <td>Newport County</td>\n",
       "    </tr>\n",
       "    <tr>\n",
       "      <th>4</th>\n",
       "      <td>echo</td>\n",
       "      <td>2/5/2020</td>\n",
       "      <td>Providence County</td>\n",
       "    </tr>\n",
       "    <tr>\n",
       "      <th>5</th>\n",
       "      <td>foxtrot</td>\n",
       "      <td>1/15/2020</td>\n",
       "      <td>Providence County</td>\n",
       "    </tr>\n",
       "    <tr>\n",
       "      <th>6</th>\n",
       "      <td>golf</td>\n",
       "      <td>1/16/2020</td>\n",
       "      <td>Providence County</td>\n",
       "    </tr>\n",
       "    <tr>\n",
       "      <th>7</th>\n",
       "      <td>hotel</td>\n",
       "      <td>1/31/2020</td>\n",
       "      <td>Kent County</td>\n",
       "    </tr>\n",
       "    <tr>\n",
       "      <th>8</th>\n",
       "      <td>india</td>\n",
       "      <td>2/1/2020</td>\n",
       "      <td>Providence County</td>\n",
       "    </tr>\n",
       "    <tr>\n",
       "      <th>9</th>\n",
       "      <td>julliett</td>\n",
       "      <td>2/20/2020</td>\n",
       "      <td>Providence County</td>\n",
       "    </tr>\n",
       "    <tr>\n",
       "      <th>10</th>\n",
       "      <td>kilo</td>\n",
       "      <td>2/16/2020</td>\n",
       "      <td>NaN</td>\n",
       "    </tr>\n",
       "  </tbody>\n",
       "</table>\n",
       "</div>"
      ],
      "text/plain": [
       "         OBS_NAME   OBS_DATE             COUNTY\n",
       "OBS_NUM                                        \n",
       "0            alfa   1/5/2020  Providence County\n",
       "1           bravo  1/31/2020  Providence County\n",
       "2         charlie  1/15/2020  Providence County\n",
       "3           delta  2/10/2020     Newport County\n",
       "4            echo   2/5/2020  Providence County\n",
       "5         foxtrot  1/15/2020  Providence County\n",
       "6            golf  1/16/2020  Providence County\n",
       "7           hotel  1/31/2020        Kent County\n",
       "8           india   2/1/2020  Providence County\n",
       "9        julliett  2/20/2020  Providence County\n",
       "10           kilo  2/16/2020                NaN"
      ]
     },
     "execution_count": 11,
     "metadata": {},
     "output_type": "execute_result"
    }
   ],
   "source": [
    "gdf_pnts_wcnty=gpd.sjoin(gdf_pnts, gdf_cnty[['geoid','namelsad','geometry']],\n",
    "                         how='left', predicate='intersects')\n",
    "gdf_pnts_wcnty.rename(columns={'geoid': 'COUNTY_ID', 'namelsad': 'COUNTY'}, inplace=True)\n",
    "gdf_pnts_wcnty.loc[:,['OBS_NAME','OBS_DATE','COUNTY']]"
   ]
  },
  {
   "cell_type": "markdown",
   "id": "dcc24835",
   "metadata": {},
   "source": [
    "# Plot"
   ]
  },
  {
   "cell_type": "code",
   "execution_count": 12,
   "id": "292f89fb",
   "metadata": {},
   "outputs": [
    {
     "data": {
      "text/plain": [
       "<AxesSubplot: >"
      ]
     },
     "execution_count": 12,
     "metadata": {},
     "output_type": "execute_result"
    },
    {
     "data": {
      "image/png": "[encoded data removed]",
      "text/plain": [
       "<Figure size 640x480 with 1 Axes>"
      ]
     },
     "metadata": {},
     "output_type": "display_data"
    }
   ],
   "source": [
    "fig, ax = plt.subplots()\n",
    "plt.xticks(rotation=315)\n",
    "gdf_cnty.plot(ax=ax, color='yellow', edgecolor='grey')\n",
    "gdf_pnts.plot(ax=ax,color='black', markersize=5)\n",
    "gdf_lines.plot(ax=ax, column=\"GROUP\", legend=True)"
   ]
  },
  {
   "cell_type": "markdown",
   "id": "3fde4d5d",
   "metadata": {},
   "source": [
    "# WRITE OUTPUT\n",
    "Shapefile format cannot handle column names > 10 characters"
   ]
  },
  {
   "cell_type": "code",
   "execution_count": 13,
   "id": "663f13a3",
   "metadata": {},
   "outputs": [
    {
     "name": "stderr",
     "output_type": "stream",
     "text": [
      "/tmp/ipykernel_25967/1840073267.py:4: UserWarning: Column names longer than 10 characters will be truncated when saved to ESRI Shapefile.\n",
      "  gdf_pnts_wcnty.to_file(out_points)\n"
     ]
    }
   ],
   "source": [
    "out_points=os.path.join('output','test_points_counties.shp')\n",
    "out_lines=os.path.join('output','test_lines.shp')\n",
    "\n",
    "gdf_pnts_wcnty.to_file(out_points)\n",
    "gdf_lines.to_file(out_lines)"
   ]
  },
  {
   "cell_type": "code",
   "execution_count": null,
   "id": "e0ea488d",
   "metadata": {},
   "outputs": [],
   "source": []
  }
 ],
 "metadata": {
  "kernelspec": {
   "display_name": "Python 3 (ipykernel)",
   "language": "python",
   "name": "python3"
  },
  "language_info": {
   "codemirror_mode": {
    "name": "ipython",
    "version": 3
   },
   "file_extension": ".py",
   "mimetype": "text/x-python",
   "name": "python",
   "nbconvert_exporter": "python",
   "pygments_lexer": "ipython3",
   "version": "3.12.3"
  }
 },
 "nbformat": 4,
 "nbformat_minor": 5
}
