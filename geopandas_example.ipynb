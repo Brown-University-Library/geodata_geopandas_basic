{
 "cells": [
  {
   "cell_type": "markdown",
   "id": "9727ad5d",
   "metadata": {},
   "source": [
    "# Basic Geopandas Examples\n",
    "https://geopandas.org/en/stable/index.html\n",
    "https://geopandas.org/en/stable/docs/user_guide/mapping.html\n",
    "\n",
    "Frank Donnelly\n",
    "Head of GIS & Data Services, Brown University Library\n",
    "\n",
    "Dec 11, 2024 / revised Mar 2, 2025"
   ]
  },
  {
   "cell_type": "markdown",
   "id": "ce6bdc85-9341-4ab4-ac22-fdc0b5429e56",
   "metadata": {},
   "source": [
    "## Brown Univ CoLab Users\n",
    "1. Open this notebook with this URL:\n",
    "https://colab.research.google.com/github/Brown-University-Library/geodata_geopandas_basic/blob/main/geopandas_example.ipynb\n",
    "\n",
    "2. Then run the following box to import this repo into a temporary folder:"
   ]
  },
  {
   "cell_type": "code",
   "execution_count": null,
   "id": "caa9263a-abdd-4460-8364-850dd7bf5b53",
   "metadata": {},
   "outputs": [],
   "source": [
    "# GOOGLE COLAB USERS - RUN THIS\n",
    "!git clone https://github.com/Brown-University-Library/geodata_geopandas_basic temp_repo && mv temp_repo/* temp_repo/.[!.]* . && rm -rf temp_repo"
   ]
  },
  {
   "cell_type": "markdown",
   "id": "12e475e3-ac4f-4f4d-b5e7-37ea4d9e3dfc",
   "metadata": {},
   "source": [
    "## Import Modules"
   ]
  },
  {
   "cell_type": "code",
   "execution_count": null,
   "id": "cfca1918",
   "metadata": {},
   "outputs": [],
   "source": [
    "import os, pandas as pd\n",
    "import geopandas as gpd\n",
    "from shapely.geometry import LineString\n",
    "import matplotlib.pyplot as plt\n",
    "%matplotlib inline"
   ]
  },
  {
   "cell_type": "markdown",
   "id": "82734c04",
   "metadata": {},
   "source": [
    "## Read Input and Create Geometry From Points\n",
    "Must know and plot the CRS of points as is; CRS is referenced using EPSG codes: https://epsg.io/. 4269 is NAD 83, often used by US federal govt. The most common long / lat CRS is 4326, WGS 84."
   ]
  },
  {
   "cell_type": "code",
   "execution_count": null,
   "id": "ccc9735a",
   "metadata": {},
   "outputs": [],
   "source": [
    "# Read shapefile\n",
    "county_file=os.path.join('input','ri_county_bndy.shp')\n",
    "gdf_cnty=gpd.read_file(county_file)\n",
    "gdf_cnty.head()"
   ]
  },
  {
   "cell_type": "code",
   "execution_count": null,
   "id": "6d4b5372-f152-48f7-84c2-699513ebf2a7",
   "metadata": {},
   "outputs": [],
   "source": [
    "# Basic plot with GeoPandas\n",
    "gdf_cnty.plot()"
   ]
  },
  {
   "cell_type": "code",
   "execution_count": null,
   "id": "521e1e5d",
   "metadata": {},
   "outputs": [],
   "source": [
    "# Read CSV\n",
    "point_file=os.path.join('input','test_points.csv')\n",
    "df_pnts=pd.read_csv(point_file, index_col='OBS_NUM', delimiter=',',dtype={'GEOID':str})\n",
    "\n",
    "gdf_pnts = gpd.GeoDataFrame(df_pnts,geometry=gpd.points_from_xy(\n",
    "    df_pnts['INTPTLONG'],df_pnts['INTPTLAT']),crs = 'EPSG:4269')\n",
    "gdf_pnts"
   ]
  },
  {
   "cell_type": "code",
   "execution_count": null,
   "id": "af5162e1-4c41-4a68-8f7b-d55286a75917",
   "metadata": {},
   "outputs": [],
   "source": [
    "gdf_pnts.plot()"
   ]
  },
  {
   "cell_type": "markdown",
   "id": "3c97e42a",
   "metadata": {},
   "source": [
    "## Get CRS Info and Transform\n",
    "CRS Library: https://epsg.io/. 4269 is NAD 83, often used by US federal govt. The most common long / lat CRS is 4326, WGS 84."
   ]
  },
  {
   "cell_type": "code",
   "execution_count": null,
   "id": "82663b2f",
   "metadata": {},
   "outputs": [],
   "source": [
    "# CRS Counties\n",
    "gdf_cnty.crs"
   ]
  },
  {
   "cell_type": "code",
   "execution_count": null,
   "id": "d7a8838b",
   "metadata": {},
   "outputs": [],
   "source": [
    "# Bounds Counties\n",
    "gdf_cnty.total_bounds"
   ]
  },
  {
   "cell_type": "code",
   "execution_count": null,
   "id": "4aaa6eef",
   "metadata": {},
   "outputs": [],
   "source": [
    "# CRS Points\n",
    "gdf_pnts.crs"
   ]
  },
  {
   "cell_type": "code",
   "execution_count": null,
   "id": "7965363c",
   "metadata": {},
   "outputs": [],
   "source": [
    "# Bounds Points\n",
    "gdf_pnts.total_bounds"
   ]
  },
  {
   "cell_type": "code",
   "execution_count": null,
   "id": "e7715fd8",
   "metadata": {},
   "outputs": [],
   "source": [
    "# Transform Point Geometry to Match County CRS\n",
    "# 3438 is the EPSG for for the RI State Plane Zone\n",
    "gdf_pnts.to_crs(3438,inplace=True)\n",
    "gdf_pnts.crs"
   ]
  },
  {
   "cell_type": "code",
   "execution_count": null,
   "id": "55495ded",
   "metadata": {},
   "outputs": [],
   "source": [
    "gdf_pnts.total_bounds"
   ]
  },
  {
   "cell_type": "code",
   "execution_count": null,
   "id": "d03b4e12-ee0a-48be-adeb-fb01682d5507",
   "metadata": {},
   "outputs": [],
   "source": [
    "basemap = gdf_cnty.plot(color='white', edgecolor='black')\n",
    "\n",
    "gdf_pnts.plot(ax=basemap, color='red');"
   ]
  },
  {
   "cell_type": "markdown",
   "id": "c2655fde",
   "metadata": {},
   "source": [
    "## Spatial Join Points and Polygons\n",
    "Keep all points on left, null values for non-matching counties on right. Take subset of columns from right, must always include geom for spatial joins."
   ]
  },
  {
   "cell_type": "code",
   "execution_count": null,
   "id": "88aef431",
   "metadata": {},
   "outputs": [],
   "source": [
    "gdf_pnts_wcnty=gpd.sjoin(gdf_pnts, gdf_cnty[['geoid','namelsad','geometry']],\n",
    "                         how='left', predicate='intersects')\n",
    "gdf_pnts_wcnty.rename(columns={'geoid': 'COUNTY_ID', 'namelsad': 'COUNTY'}, inplace=True)\n",
    "gdf_pnts_wcnty.loc[:,['OBS_NAME','OBS_DATE','COUNTY']]"
   ]
  },
  {
   "cell_type": "markdown",
   "id": "bffd4175-9a89-495c-acdd-9f4959bf9bc0",
   "metadata": {},
   "source": [
    "Count the number of points in each polygon."
   ]
  },
  {
   "cell_type": "code",
   "execution_count": null,
   "id": "86d3ed74-df49-4403-bf01-b36724b6827a",
   "metadata": {},
   "outputs": [],
   "source": [
    "cnty_count=gdf_pnts_wcnty.groupby(['COUNTY_ID','COUNTY'],dropna=False).agg(numpoints=('COUNTY_ID', 'count'))\n",
    "cnty_count"
   ]
  },
  {
   "cell_type": "markdown",
   "id": "861fbbba",
   "metadata": {},
   "source": [
    "## Generate Lines from Points Grouped by Categories and Calculate Length\n",
    "Assumes points are in proper sequence; if not, sort by sequence column first. Output measurement units are based on the CRS."
   ]
  },
  {
   "cell_type": "code",
   "execution_count": null,
   "id": "779b3561",
   "metadata": {},
   "outputs": [],
   "source": [
    "lines = gdf_pnts.groupby('GROUP')['geometry'].apply(lambda x: LineString(x.tolist()))\n",
    "gdf_lines = gpd.GeoDataFrame(lines, geometry='geometry',crs = 'EPSG:3438').reset_index()\n",
    "gdf_lines['length_mi']=(gdf_lines.length)/5280\n",
    "gdf_lines.loc[:,['GROUP','length_mi']]"
   ]
  },
  {
   "cell_type": "markdown",
   "id": "dcc24835",
   "metadata": {},
   "source": [
    "## Plot"
   ]
  },
  {
   "cell_type": "code",
   "execution_count": null,
   "id": "292f89fb",
   "metadata": {},
   "outputs": [],
   "source": [
    "# Use matplotlib for more detailed plot configuration\n",
    "fig, ax = plt.subplots()\n",
    "plt.xticks(rotation=315)\n",
    "gdf_cnty.plot(ax=ax, color='white', edgecolor='grey')\n",
    "gdf_pnts.plot(ax=ax,color='black', markersize=5)\n",
    "gdf_lines.plot(ax=ax, column=\"GROUP\", legend=True)"
   ]
  },
  {
   "cell_type": "markdown",
   "id": "3fde4d5d",
   "metadata": {},
   "source": [
    "## WRITE OUTPUT\n",
    "Shapefile format cannot handle column names > 10 characters"
   ]
  },
  {
   "cell_type": "code",
   "execution_count": null,
   "id": "663f13a3",
   "metadata": {},
   "outputs": [],
   "source": [
    "out_points=os.path.join('output','test_points_counties.shp')\n",
    "out_lines=os.path.join('output','test_lines.shp')\n",
    "\n",
    "gdf_pnts_wcnty.to_file(out_points)\n",
    "gdf_lines.to_file(out_lines)"
   ]
  },
  {
   "cell_type": "code",
   "execution_count": null,
   "id": "e0ea488d",
   "metadata": {},
   "outputs": [],
   "source": []
  }
 ],
 "metadata": {
  "kernelspec": {
   "display_name": "Python 3 (ipykernel)",
   "language": "python",
   "name": "python3"
  },
  "language_info": {
   "codemirror_mode": {
    "name": "ipython",
    "version": 3
   },
   "file_extension": ".py",
   "mimetype": "text/x-python",
   "name": "python",
   "nbconvert_exporter": "python",
   "pygments_lexer": "ipython3",
   "version": "3.12.4"
  }
 },
 "nbformat": 4,
 "nbformat_minor": 5
}
